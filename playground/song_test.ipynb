{
 "cells": [
  {
   "cell_type": "code",
   "execution_count": null,
   "metadata": {},
   "outputs": [],
   "source": [
    "import os\n",
    "\n",
    "try:\n",
    "    if CONFIGURED_DIRS:  # type: ignore\n",
    "        pass\n",
    "except:\n",
    "    PLAYGROUND_DIR = os.getcwd()\n",
    "    os.chdir(\"../src\")\n",
    "\n",
    "CONFIGURED_DIRS = True\n",
    "\n",
    "print(f\"Playground directory: {PLAYGROUND_DIR}\")  # type: ignore\n",
    "print(f\"Working directory: {os.getcwd()}\")"
   ]
  },
  {
   "cell_type": "code",
   "execution_count": null,
   "metadata": {},
   "outputs": [],
   "source": [
    "import sys\n",
    "from IPython.display import Audio\n",
    "\n",
    "from common.roll import Roll, RollExportConfig\n",
    "from common.note_collection import NoteCollection\n",
    "from common.structures.note import Note\n",
    "from common.structures.pitch import Pitch\n",
    "\n",
    "from generation.chord_progression import ChordProgression\n",
    "from generation.instruments.voice import Voice\n",
    "from generation.instruments.piano import Piano"
   ]
  },
  {
   "cell_type": "code",
   "execution_count": null,
   "metadata": {},
   "outputs": [],
   "source": [
    "sys.path.append(\"../\")  # allow modules one directory above to be accessible"
   ]
  },
  {
   "cell_type": "code",
   "execution_count": null,
   "metadata": {},
   "outputs": [],
   "source": [
    "def create_song(\n",
    "    roll: Roll,\n",
    "    melody: NoteCollection,\n",
    "    chords: ChordProgression,\n",
    ") -> Roll:\n",
    "    voice = roll.add_instrument(\"Voice\", Voice)\n",
    "    assert type(voice) is Voice\n",
    "    piano = roll.add_instrument(\"Stride Piano\", Piano)\n",
    "    assert type(piano) is Piano\n",
    "\n",
    "    final_pitch = chords.chords[-1].chord.root\n",
    "    final_pitch = final_pitch.reoctave_near_pitch(Pitch.from_str(\"C3\"))\n",
    "    voice.generate(melody, chords)\n",
    "    piano.generate(chords)\n",
    "    piano.notes.add(Note(final_pitch, chords.end_time, roll.Duration(1)))\n",
    "\n",
    "    return roll\n",
    "\n",
    "\n",
    "def export_song(\n",
    "    name: str,\n",
    "    roll: Roll,\n",
    "    melody: NoteCollection,\n",
    "    chords: ChordProgression,\n",
    ") -> str:\n",
    "    output_path = os.path.join(PLAYGROUND_DIR, \"output\", f\"{name}.wav\")\n",
    "    create_song(roll, melody, chords).export(RollExportConfig(output_path=output_path))\n",
    "    return output_path"
   ]
  },
  {
   "cell_type": "code",
   "execution_count": null,
   "metadata": {},
   "outputs": [],
   "source": [
    "from playground.songs.first import get_song\n",
    "\n",
    "Audio(export_song(\"first\", *get_song()))"
   ]
  },
  {
   "cell_type": "code",
   "execution_count": null,
   "metadata": {},
   "outputs": [],
   "source": [
    "from playground.songs.happy_birthday import get_song\n",
    "\n",
    "Audio(export_song(\"happy_birthday\", *get_song()))"
   ]
  }
 ],
 "metadata": {
  "kernelspec": {
   "display_name": "piranha-plants-as-charade-PWJxIcuN-py3.11",
   "language": "python",
   "name": "python3"
  },
  "language_info": {
   "codemirror_mode": {
    "name": "ipython",
    "version": 3
   },
   "file_extension": ".py",
   "mimetype": "text/x-python",
   "name": "python",
   "nbconvert_exporter": "python",
   "pygments_lexer": "ipython3",
   "version": "3.11.11"
  }
 },
 "nbformat": 4,
 "nbformat_minor": 2
}
