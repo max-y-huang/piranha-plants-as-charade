{
 "cells": [
  {
   "cell_type": "code",
   "execution_count": null,
   "metadata": {},
   "outputs": [],
   "source": [
    "import os\n",
    "\n",
    "try:\n",
    "    if CONFIGURED_DIRS:  # type: ignore\n",
    "        pass\n",
    "except:\n",
    "    PLAYGROUND_DIR = os.getcwd()\n",
    "    os.chdir(\"../src\")\n",
    "\n",
    "CONFIGURED_DIRS = True\n",
    "\n",
    "print(f\"Playground directory: {PLAYGROUND_DIR}\")  # type: ignore\n",
    "print(f\"Working directory: {os.getcwd()}\")"
   ]
  },
  {
   "cell_type": "code",
   "execution_count": null,
   "metadata": {},
   "outputs": [],
   "source": [
    "import sys\n",
    "import importlib\n",
    "from IPython.display import Audio\n",
    "\n",
    "from generation.instruments.voice import Voice\n",
    "from generation.instruments.piano import Piano\n",
    "from generation.instruments.bass_drum import BassDrum\n",
    "from generation.instruments.snare_drum import SnareDrum\n",
    "\n",
    "from export.arrangement import Arrangement, ArrangementExportConfig\n",
    "from export.arrangement_generator import ArrangementGenerator"
   ]
  },
  {
   "cell_type": "code",
   "execution_count": null,
   "metadata": {},
   "outputs": [],
   "source": [
    "sys.path.append(\"../\")  # allow modules one directory above to be accessible"
   ]
  },
  {
   "cell_type": "code",
   "execution_count": null,
   "metadata": {},
   "outputs": [],
   "source": [
    "def create_song(name: str) -> Arrangement:\n",
    "    song = importlib.import_module(f\"playground.songs.{name}\")\n",
    "    arrangement_generator: ArrangementGenerator = song.get_song()\n",
    "\n",
    "    arrangement_generator.add_instrument(\"Voice\", Voice)\n",
    "    arrangement_generator.add_instrument(\"Stride Piano\", Piano)\n",
    "    arrangement_generator.add_instrument(\"Bass Drum\", BassDrum)\n",
    "    arrangement_generator.add_instrument(\"Snare Drum\", SnareDrum)\n",
    "\n",
    "    return arrangement_generator.generate()\n",
    "\n",
    "\n",
    "def export_song(name: str) -> str:\n",
    "    output_path = os.path.join(PLAYGROUND_DIR, \"output\", f\"{name}.wav\")\n",
    "    create_song(name).export(ArrangementExportConfig(output_path=output_path))\n",
    "    return output_path"
   ]
  },
  {
   "cell_type": "code",
   "execution_count": null,
   "metadata": {},
   "outputs": [],
   "source": [
    "Audio(export_song(\"first\"))"
   ]
  },
  {
   "cell_type": "code",
   "execution_count": null,
   "metadata": {},
   "outputs": [],
   "source": [
    "Audio(export_song(\"happy_birthday\"))"
   ]
  }
 ],
 "metadata": {
  "kernelspec": {
   "display_name": "piranha-plants-as-charade-PWJxIcuN-py3.11",
   "language": "python",
   "name": "python3"
  },
  "language_info": {
   "codemirror_mode": {
    "name": "ipython",
    "version": 3
   },
   "file_extension": ".py",
   "mimetype": "text/x-python",
   "name": "python",
   "nbconvert_exporter": "python",
   "pygments_lexer": "ipython3",
   "version": "3.11.11"
  }
 },
 "nbformat": 4,
 "nbformat_minor": 2
}
