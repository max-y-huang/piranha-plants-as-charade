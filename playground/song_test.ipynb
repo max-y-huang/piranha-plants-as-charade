{
 "cells": [
  {
   "cell_type": "code",
   "execution_count": null,
   "metadata": {},
   "outputs": [],
   "source": [
    "import os\n",
    "\n",
    "try:\n",
    "    if CONFIGURED_DIRS:  # type: ignore\n",
    "        pass\n",
    "except:\n",
    "    PLAYGROUND_DIR = os.getcwd()\n",
    "    os.chdir(\"../src\")\n",
    "\n",
    "CONFIGURED_DIRS = True\n",
    "\n",
    "print(f\"Playground directory: {PLAYGROUND_DIR}\")  # type: ignore\n",
    "print(f\"Working directory: {os.getcwd()}\")"
   ]
  },
  {
   "cell_type": "code",
   "execution_count": null,
   "metadata": {},
   "outputs": [],
   "source": [
    "import sys\n",
    "import importlib\n",
    "from IPython.display import Audio\n",
    "\n",
    "from common.roll import Roll, RollExportConfig\n",
    "from common.structures.note import Note\n",
    "from common.structures.pitch import Pitch\n",
    "\n",
    "from generation.instruments.voice import Voice\n",
    "from generation.instruments.piano import Piano\n",
    "from generation.instruments.bass_drum import BassDrum\n",
    "from generation.instruments.snare_drum import SnareDrum"
   ]
  },
  {
   "cell_type": "code",
   "execution_count": null,
   "metadata": {},
   "outputs": [],
   "source": [
    "sys.path.append(\"../\")  # allow modules one directory above to be accessible"
   ]
  },
  {
   "cell_type": "code",
   "execution_count": null,
   "metadata": {},
   "outputs": [],
   "source": [
    "def create_song(name: str) -> Roll:\n",
    "    song = importlib.import_module(f\"playground.songs.{name}\")\n",
    "    roll: Roll = song.get_song()\n",
    "\n",
    "    roll.add_instrument(\"Voice\", Voice)\n",
    "    piano = roll.add_instrument(\"Stride Piano\", Piano)\n",
    "    roll.add_instrument(\"Bass Drum\", BassDrum)\n",
    "    roll.add_instrument(\"Snare Drum\", SnareDrum)\n",
    "\n",
    "    roll.generate()\n",
    "\n",
    "    final_pitch = roll.chord_progression.chords[-1].chord.root\n",
    "    final_pitch = final_pitch.reoctave_near_pitch(Pitch.from_str(\"C3\"))\n",
    "    piano.notes.add(\n",
    "        Note(final_pitch, roll.chord_progression.end_time, roll.config.Duration(1))\n",
    "    )\n",
    "\n",
    "    return roll\n",
    "\n",
    "\n",
    "def export_song(name: str) -> str:\n",
    "    output_path = os.path.join(PLAYGROUND_DIR, \"output\", f\"{name}.wav\")\n",
    "    create_song(name).export(RollExportConfig(output_path=output_path))\n",
    "    return output_path"
   ]
  },
  {
   "cell_type": "code",
   "execution_count": null,
   "metadata": {},
   "outputs": [],
   "source": [
    "Audio(export_song(\"first\"))"
   ]
  },
  {
   "cell_type": "code",
   "execution_count": null,
   "metadata": {},
   "outputs": [],
   "source": [
    "Audio(export_song(\"happy_birthday\"))"
   ]
  }
 ],
 "metadata": {
  "kernelspec": {
   "display_name": "piranha-plants-as-charade-PWJxIcuN-py3.11",
   "language": "python",
   "name": "python3"
  },
  "language_info": {
   "codemirror_mode": {
    "name": "ipython",
    "version": 3
   },
   "file_extension": ".py",
   "mimetype": "text/x-python",
   "name": "python",
   "nbconvert_exporter": "python",
   "pygments_lexer": "ipython3",
   "version": "3.11.11"
  }
 },
 "nbformat": 4,
 "nbformat_minor": 2
}
