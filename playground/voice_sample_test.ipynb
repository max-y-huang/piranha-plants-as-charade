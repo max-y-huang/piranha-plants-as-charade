{
 "cells": [
  {
   "cell_type": "code",
   "execution_count": null,
   "metadata": {},
   "outputs": [],
   "source": [
    "import os\n",
    "\n",
    "try:\n",
    "    if CONFIGURED_DIRS:  # type: ignore\n",
    "        pass\n",
    "except:\n",
    "    PLAYGROUND_DIR = os.getcwd()\n",
    "    os.chdir(\"../src\")\n",
    "\n",
    "CONFIGURED_DIRS = True\n",
    "\n",
    "print(f\"Playground directory: {PLAYGROUND_DIR}\")  # type: ignore\n",
    "print(f\"Working directory: {os.getcwd()}\")"
   ]
  },
  {
   "cell_type": "code",
   "execution_count": null,
   "metadata": {},
   "outputs": [],
   "source": [
    "import numpy as np\n",
    "import scipy.io.wavfile as wav  # type: ignore\n",
    "from IPython.display import Audio\n",
    "from typing import List\n",
    "\n",
    "from common.audio_sample_manager import AudioSampleManager, AudioSampleManagerConfig\n",
    "from common.structures.pitch import Pitch"
   ]
  },
  {
   "cell_type": "code",
   "execution_count": null,
   "metadata": {},
   "outputs": [],
   "source": [
    "sample_manager = AudioSampleManager(\n",
    "    AudioSampleManagerConfig(\n",
    "        src=\"piranha_plant\",\n",
    "    ),\n",
    ")\n",
    "samples = (\n",
    "    sample_manager.get_sample(\"A\", Pitch.from_str(\"C3\")),\n",
    "    sample_manager.get_sample(\"E\", Pitch.from_str(\"G3\")),\n",
    "    sample_manager.get_sample(\"I\", Pitch.from_str(\"D4\")),\n",
    "    sample_manager.get_sample(\"O\", Pitch.from_str(\"A4\")),\n",
    "    sample_manager.get_sample(\"U\", Pitch.from_str(\"E5\")),\n",
    "    sample_manager.get_sample(\"A\", Pitch.from_str(\"B5\")),\n",
    "    sample_manager.get_sample(\"E\", Pitch.from_str(\"F#6\")),\n",
    ")\n",
    "empty_sample = np.zeros(len(samples[0]) // 2, dtype=np.float32)\n",
    "\n",
    "output: List[np.float32] = list()\n",
    "for i, sample in enumerate(samples):\n",
    "    output.extend(sample)\n",
    "    output.extend(empty_sample)"
   ]
  },
  {
   "cell_type": "code",
   "execution_count": null,
   "metadata": {},
   "outputs": [],
   "source": [
    "OUTPUT_DIR = os.path.join(PLAYGROUND_DIR, \"output\")\n",
    "OUTPUT_WAV_SRC = os.path.join(OUTPUT_DIR, \"piranha_plant_fifths.wav\")\n",
    "\n",
    "os.makedirs(OUTPUT_DIR, exist_ok=True)\n",
    "\n",
    "wav.write(  # type: ignore\n",
    "    OUTPUT_WAV_SRC,\n",
    "    sample_manager.sample_rate,\n",
    "    np.array(output),\n",
    ")"
   ]
  },
  {
   "cell_type": "code",
   "execution_count": null,
   "metadata": {},
   "outputs": [],
   "source": [
    "Audio(OUTPUT_WAV_SRC)"
   ]
  }
 ],
 "metadata": {
  "kernelspec": {
   "display_name": "piranha-plants-as-charade-PWJxIcuN-py3.11",
   "language": "python",
   "name": "python3"
  },
  "language_info": {
   "codemirror_mode": {
    "name": "ipython",
    "version": 3
   },
   "file_extension": ".py",
   "mimetype": "text/x-python",
   "name": "python",
   "nbconvert_exporter": "python",
   "pygments_lexer": "ipython3",
   "version": "3.11.11"
  }
 },
 "nbformat": 4,
 "nbformat_minor": 2
}
