{
 "cells": [
  {
   "cell_type": "code",
   "execution_count": null,
   "metadata": {},
   "outputs": [],
   "source": [
    "import os\n",
    "\n",
    "try:\n",
    "    if CWD_UPDATED:\n",
    "        pass\n",
    "except:\n",
    "    os.chdir(\"..\")\n",
    "\n",
    "CWD_UPDATED = True\n",
    "\n",
    "print(f\"Working directory: {os.getcwd()}\")"
   ]
  },
  {
   "cell_type": "code",
   "execution_count": null,
   "metadata": {},
   "outputs": [],
   "source": [
    "from components.roll import Roll\n",
    "from components.note import Note\n",
    "from components.chord import Chord, ChordQuality\n",
    "from transformers.pitch import Pitch\n",
    "from transformers.interval import Interval"
   ]
  },
  {
   "cell_type": "code",
   "execution_count": null,
   "metadata": {},
   "outputs": [],
   "source": [
    "def add_as_stride(roll: Roll, chord: Chord, start: float, duration: float):\n",
    "    for i, time in enumerate(range(start, start + duration)):\n",
    "        if i % 8 == 0:\n",
    "            roll.add_notes(\n",
    "                Note(\n",
    "                    pitch=chord.root,\n",
    "                    start=time,\n",
    "                    duration=roll.Time(1 / 8),\n",
    "                ).reoctave_near_pitch(Pitch(\"C3\"))\n",
    "            )\n",
    "        elif i % 8 == 4:\n",
    "            roll.add_notes(\n",
    "                Note(\n",
    "                    pitch=chord.root + Interval(\"5\"),\n",
    "                    start=time,\n",
    "                    duration=roll.Time(1 / 8),\n",
    "                ).reoctave_near_pitch(\n",
    "                    min(roll.get_pitches_at_time(time - roll.Time(1 / 4)).set),\n",
    "                    position=\"below\",\n",
    "                )\n",
    "            )\n",
    "        elif i % 4 == 2:\n",
    "            roll.add_notes(\n",
    "                *[\n",
    "                    Note(\n",
    "                        pitch=pitch,\n",
    "                        start=time,\n",
    "                        duration=roll.Time(1 / 16),\n",
    "                    ).reoctave_near_pitch(Pitch(\"C5\"))\n",
    "                    for pitch in chord.set\n",
    "                ]\n",
    "            )"
   ]
  },
  {
   "cell_type": "code",
   "execution_count": null,
   "metadata": {},
   "outputs": [],
   "source": [
    "key = Pitch(\"C\")\n",
    "\n",
    "I = Chord(key, ChordQuality.Maj)\n",
    "IV = Chord(key + Interval(\"4\"), ChordQuality.Maj)\n",
    "V = Chord(key + Interval(\"5\"), ChordQuality.Maj)\n",
    "\n",
    "roll = Roll(bpm=110)\n",
    "\n",
    "add_as_stride(roll, I, roll.Time(0), roll.Time(0.5))\n",
    "add_as_stride(roll, IV.get_V7(), roll.Time(0.5), roll.Time(0.5))\n",
    "add_as_stride(roll, IV, roll.Time(1), roll.Time(0.5))\n",
    "add_as_stride(roll, V.get_V7(), roll.Time(1.5), roll.Time(0.5))\n",
    "add_as_stride(roll, V, roll.Time(2), roll.Time(1))\n",
    "add_as_stride(roll, I, roll.Time(3), roll.Time(0.5))\n",
    "roll.add_notes(\n",
    "    Note(I.root, roll.Time(3.5), roll.Time(0.25)).reoctave_near_pitch(Pitch(\"C3\"))\n",
    ")"
   ]
  },
  {
   "cell_type": "code",
   "execution_count": null,
   "metadata": {},
   "outputs": [],
   "source": [
    "os.makedirs(\"playground/output\", exist_ok=True)\n",
    "with open(\"playground/output/output.mid\", \"wb\") as fout:\n",
    "    roll.to_midi().writeFile(fout)"
   ]
  },
  {
   "cell_type": "code",
   "execution_count": null,
   "metadata": {},
   "outputs": [],
   "source": [
    "os.system(\"open -a VLC playground/output/output.mid\")"
   ]
  }
 ],
 "metadata": {
  "kernelspec": {
   "display_name": "piranha-plants-as-charade-PWJxIcuN-py3.11",
   "language": "python",
   "name": "python3"
  },
  "language_info": {
   "codemirror_mode": {
    "name": "ipython",
    "version": 3
   },
   "file_extension": ".py",
   "mimetype": "text/x-python",
   "name": "python",
   "nbconvert_exporter": "python",
   "pygments_lexer": "ipython3",
   "version": "3.11.11"
  }
 },
 "nbformat": 4,
 "nbformat_minor": 2
}
