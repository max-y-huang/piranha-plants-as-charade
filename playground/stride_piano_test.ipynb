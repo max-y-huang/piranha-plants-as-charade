{
 "cells": [
  {
   "cell_type": "code",
   "execution_count": null,
   "metadata": {},
   "outputs": [],
   "source": [
    "import os\n",
    "\n",
    "try:\n",
    "    if CWD_UPDATED:\n",
    "        pass\n",
    "except:\n",
    "    os.chdir(\"..\")\n",
    "\n",
    "CWD_UPDATED = True\n",
    "\n",
    "print(f\"Working directory: {os.getcwd()}\")"
   ]
  },
  {
   "cell_type": "code",
   "execution_count": null,
   "metadata": {},
   "outputs": [],
   "source": [
    "from components.rolls.piano import PianoRoll\n",
    "from components.note import Note\n",
    "from components.chord import Chord, ChordQuality\n",
    "from transformers.pitch import Pitch\n",
    "from transformers.interval import Interval"
   ]
  },
  {
   "cell_type": "code",
   "execution_count": null,
   "metadata": {},
   "outputs": [],
   "source": [
    "key = Pitch(\"C\")\n",
    "\n",
    "I = Chord(key, ChordQuality.Maj)\n",
    "IV = Chord(key + Interval(\"4\"), ChordQuality.Maj)\n",
    "V = Chord(key + Interval(\"5\"), ChordQuality.Maj)\n",
    "\n",
    "roll = PianoRoll(beats_per_minute=110)\n",
    "\n",
    "roll.add_stride_pattern(I, roll.Time(0, 0), roll.Time(0, 2))\n",
    "roll.add_stride_pattern(IV.get_V7(), roll.Time(0, 2), roll.Time(1, 0))\n",
    "roll.add_stride_pattern(IV, roll.Time(1, 0), roll.Time(1, 2))\n",
    "roll.add_stride_pattern(V.get_V7(), roll.Time(1, 2), roll.Time(2, 0))\n",
    "roll.add_stride_pattern(V, roll.Time(2, 0), roll.Time(3, 0))\n",
    "roll.add_stride_pattern(I, roll.Time(3, 0), roll.Time(3, 2))\n",
    "roll.add_notes(\n",
    "    Note(I.root, roll.Time(3, 2), roll.Duration(1)).reoctave_near_pitch(Pitch(\"C3\"))\n",
    ")"
   ]
  },
  {
   "cell_type": "code",
   "execution_count": null,
   "metadata": {},
   "outputs": [],
   "source": [
    "os.makedirs(\"playground/output\", exist_ok=True)\n",
    "with open(\"playground/output/output.mid\", \"wb\") as fout:\n",
    "    roll.to_midi().writeFile(fout)"
   ]
  },
  {
   "cell_type": "code",
   "execution_count": null,
   "metadata": {},
   "outputs": [],
   "source": [
    "os.system(\"open -a VLC playground/output/output.mid\")"
   ]
  }
 ],
 "metadata": {
  "kernelspec": {
   "display_name": "piranha-plants-as-charade-PWJxIcuN-py3.11",
   "language": "python",
   "name": "python3"
  },
  "language_info": {
   "codemirror_mode": {
    "name": "ipython",
    "version": 3
   },
   "file_extension": ".py",
   "mimetype": "text/x-python",
   "name": "python",
   "nbconvert_exporter": "python",
   "pygments_lexer": "ipython3",
   "version": "3.11.11"
  }
 },
 "nbformat": 4,
 "nbformat_minor": 2
}
