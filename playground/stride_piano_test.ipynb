{
 "cells": [
  {
   "cell_type": "code",
   "execution_count": null,
   "metadata": {},
   "outputs": [],
   "source": [
    "import os\n",
    "\n",
    "try:\n",
    "    if CONFIGURED_DIRS:  # type: ignore\n",
    "        pass\n",
    "except:\n",
    "    PLAYGROUND_DIR = os.getcwd()\n",
    "    os.chdir(\"../src\")\n",
    "\n",
    "CONFIGURED_DIRS = True\n",
    "\n",
    "print(f\"Playground directory: {PLAYGROUND_DIR}\")  # type: ignore\n",
    "print(f\"Working directory: {os.getcwd()}\")"
   ]
  },
  {
   "cell_type": "code",
   "execution_count": null,
   "metadata": {},
   "outputs": [],
   "source": [
    "from generation.roll import Roll\n",
    "from common.note import Note\n",
    "from common.chord import Chord, ChordQuality\n",
    "from common.pitch import Pitch\n",
    "from common.interval import Interval\n",
    "\n",
    "from generation.instruments.piano import Piano\n",
    "from generation.chord_progression import ChordProgression"
   ]
  },
  {
   "cell_type": "code",
   "execution_count": null,
   "metadata": {},
   "outputs": [],
   "source": [
    "key = Pitch.from_str(\"C\")\n",
    "\n",
    "I = Chord(key, ChordQuality.Maj)\n",
    "ii = Chord(key + Interval.from_str(\"2\"), ChordQuality.Min)\n",
    "IV = Chord(key + Interval.from_str(\"4\"), ChordQuality.Maj)\n",
    "V = Chord(key + Interval.from_str(\"5\"), ChordQuality.Maj)\n",
    "\n",
    "roll = Roll(\n",
    "    beats_per_minute=110,\n",
    "    time_signature=(4, 4),\n",
    ")\n",
    "piano = roll.add_instrument(\"Stride Piano\", Piano)\n",
    "assert type(piano) is Piano\n",
    "\n",
    "chord_progression = ChordProgression(\n",
    "    start_time=roll.Time(0, 0),\n",
    "    end_time=roll.Time(4, 2),\n",
    ")\n",
    "chord_progression.add_chords(\n",
    "    (I, roll.Time(0, 0)),\n",
    "    (IV, roll.Time(1, 0)),\n",
    "    (ii, roll.Time(2, 0)),\n",
    "    (V, roll.Time(3, 0)),\n",
    "    (I, roll.Time(4, 0)),\n",
    "    (IV.get_V7(), roll.Time(0, 2)),\n",
    "    (ii.get_V7(), roll.Time(1, 2)),\n",
    "    (V.get_V7(), roll.Time(2, 2)),\n",
    "    (I.get_V7(), roll.Time(3, 2)),\n",
    ")\n",
    "\n",
    "final_pitch = I.root.reoctave_near_pitch(Pitch.from_str(\"C3\"))\n",
    "piano.generate(chord_progression)\n",
    "piano.notes.add(Note(final_pitch, chord_progression.end_time, roll.Duration(1)))"
   ]
  },
  {
   "cell_type": "code",
   "execution_count": null,
   "metadata": {},
   "outputs": [],
   "source": [
    "OUTPUT_DIR = os.path.join(PLAYGROUND_DIR, \"output\")\n",
    "OUTPUT_MIDI_SRC = os.path.join(OUTPUT_DIR, \"output.mid\")\n",
    "\n",
    "os.makedirs(OUTPUT_DIR, exist_ok=True)\n",
    "with open(OUTPUT_MIDI_SRC, \"wb\") as fout:\n",
    "    piano.to_midi().writeFile(fout)  # type: ignore"
   ]
  },
  {
   "cell_type": "code",
   "execution_count": null,
   "metadata": {},
   "outputs": [],
   "source": [
    "os.system(f\"open -a VLC {OUTPUT_MIDI_SRC}\")"
   ]
  }
 ],
 "metadata": {
  "kernelspec": {
   "display_name": "piranha-plants-as-charade-PWJxIcuN-py3.11",
   "language": "python",
   "name": "python3"
  },
  "language_info": {
   "codemirror_mode": {
    "name": "ipython",
    "version": 3
   },
   "file_extension": ".py",
   "mimetype": "text/x-python",
   "name": "python",
   "nbconvert_exporter": "python",
   "pygments_lexer": "ipython3",
   "version": "3.11.11"
  }
 },
 "nbformat": 4,
 "nbformat_minor": 2
}
