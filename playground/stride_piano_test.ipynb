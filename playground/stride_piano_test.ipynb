{
 "cells": [
  {
   "cell_type": "code",
   "execution_count": null,
   "metadata": {},
   "outputs": [],
   "source": [
    "import os\n",
    "\n",
    "try:\n",
    "    if CWD_UPDATED:\n",
    "        pass\n",
    "except:\n",
    "    os.chdir(\"..\")\n",
    "\n",
    "CWD_UPDATED = True\n",
    "\n",
    "print(f\"Working directory: {os.getcwd()}\")"
   ]
  },
  {
   "cell_type": "code",
   "execution_count": null,
   "metadata": {},
   "outputs": [],
   "source": [
    "from components.roll import Roll\n",
    "from components.note import Note\n",
    "from components.chord import Chord, ChordQuality\n",
    "from transformers.pitch import Pitch\n",
    "from transformers.interval import Interval"
   ]
  },
  {
   "cell_type": "code",
   "execution_count": null,
   "metadata": {},
   "outputs": [],
   "source": [
    "def add_stride_pattern(roll: Roll, chord: Chord, start: int, end: int):\n",
    "    for i, time in enumerate(range(start, end)):\n",
    "        if i % 8 == 0:\n",
    "            roll.add_notes(\n",
    "                Note(\n",
    "                    pitch=chord.root,\n",
    "                    start=time,\n",
    "                    duration=roll.Duration(1 / 2),\n",
    "                ).reoctave_near_pitch(Pitch(\"C3\"))\n",
    "            )\n",
    "        elif i % 8 == 4:\n",
    "            roll.add_notes(\n",
    "                Note(\n",
    "                    pitch=chord.root + Interval(\"5\"),\n",
    "                    start=time,\n",
    "                    duration=roll.Duration(1 / 2),\n",
    "                ).reoctave_near_pitch(\n",
    "                    min(roll.get_pitches_at_time(time - roll.Duration(1)).set),\n",
    "                    position=\"below\",\n",
    "                )\n",
    "            )\n",
    "        elif i % 4 == 2:\n",
    "            roll.add_notes(\n",
    "                *[\n",
    "                    Note(\n",
    "                        pitch=pitch,\n",
    "                        start=time,\n",
    "                        duration=roll.Duration(1 / 4),\n",
    "                    ).reoctave_near_pitch(Pitch(\"C5\"))\n",
    "                    for pitch in chord.set\n",
    "                ]\n",
    "            )"
   ]
  },
  {
   "cell_type": "code",
   "execution_count": null,
   "metadata": {},
   "outputs": [],
   "source": [
    "key = Pitch(\"C\")\n",
    "\n",
    "I = Chord(key, ChordQuality.Maj)\n",
    "IV = Chord(key + Interval(\"4\"), ChordQuality.Maj)\n",
    "V = Chord(key + Interval(\"5\"), ChordQuality.Maj)\n",
    "\n",
    "roll = Roll(beats_per_minute=110)\n",
    "\n",
    "add_stride_pattern(roll, I, roll.Time(0, 0), roll.Time(0, 2))\n",
    "add_stride_pattern(roll, IV.get_V7(), roll.Time(0, 2), roll.Time(1, 0))\n",
    "add_stride_pattern(roll, IV, roll.Time(1, 0), roll.Time(1, 2))\n",
    "add_stride_pattern(roll, V.get_V7(), roll.Time(1, 2), roll.Time(2, 0))\n",
    "add_stride_pattern(roll, V, roll.Time(2, 0), roll.Time(3, 0))\n",
    "add_stride_pattern(roll, I, roll.Time(3, 0), roll.Time(3, 2))\n",
    "roll.add_notes(\n",
    "    Note(I.root, roll.Time(3, 2), roll.Duration(1)).reoctave_near_pitch(Pitch(\"C3\"))\n",
    ")"
   ]
  },
  {
   "cell_type": "code",
   "execution_count": null,
   "metadata": {},
   "outputs": [],
   "source": [
    "# roll = Roll(\n",
    "#     beats_per_minute=220,\n",
    "#     quantization=8,\n",
    "#     time_signature=(6, 8),\n",
    "# )\n",
    "\n",
    "# for measure in range(2):\n",
    "#     for i, time in enumerate(range(roll.Time(measure, 0), roll.Time(measure + 1, 0))):\n",
    "#         roll.add_notes(\n",
    "#             Note(\n",
    "#                 Pitch(\"C4\") + (i == 0) * Interval(\"8\"),\n",
    "#                 start=time,\n",
    "#                 duration=roll.Duration(1),\n",
    "#             )\n",
    "#         )"
   ]
  },
  {
   "cell_type": "code",
   "execution_count": null,
   "metadata": {},
   "outputs": [],
   "source": [
    "os.makedirs(\"playground/output\", exist_ok=True)\n",
    "with open(\"playground/output/output.mid\", \"wb\") as fout:\n",
    "    roll.to_midi().writeFile(fout)"
   ]
  },
  {
   "cell_type": "code",
   "execution_count": null,
   "metadata": {},
   "outputs": [],
   "source": [
    "os.system(\"open -a VLC playground/output/output.mid\")"
   ]
  }
 ],
 "metadata": {
  "kernelspec": {
   "display_name": "piranha-plants-as-charade-PWJxIcuN-py3.11",
   "language": "python",
   "name": "python3"
  },
  "language_info": {
   "codemirror_mode": {
    "name": "ipython",
    "version": 3
   },
   "file_extension": ".py",
   "mimetype": "text/x-python",
   "name": "python",
   "nbconvert_exporter": "python",
   "pygments_lexer": "ipython3",
   "version": "3.11.11"
  }
 },
 "nbformat": 4,
 "nbformat_minor": 2
}
