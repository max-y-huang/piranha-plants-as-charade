{
 "cells": [
  {
   "cell_type": "code",
   "execution_count": null,
   "metadata": {},
   "outputs": [],
   "source": [
    "import os\n",
    "\n",
    "try:\n",
    "    if CWD_UPDATED:  # type: ignore\n",
    "        pass\n",
    "except:\n",
    "    os.chdir(\"..\")\n",
    "\n",
    "CWD_UPDATED = True\n",
    "\n",
    "print(f\"Working directory: {os.getcwd()}\")"
   ]
  },
  {
   "cell_type": "code",
   "execution_count": null,
   "metadata": {},
   "outputs": [],
   "source": [
    "from components.rolls.piano import PianoRoll\n",
    "from components.note import Note\n",
    "from components.chord import Chord, ChordQuality\n",
    "from components.chord_progression import ChordProgression\n",
    "from components.pitch import Pitch\n",
    "from components.interval import Interval\n",
    "from components.chord_voicer import BlockChordVoicer"
   ]
  },
  {
   "cell_type": "code",
   "execution_count": null,
   "metadata": {},
   "outputs": [],
   "source": [
    "key = Pitch.from_str(\"C\")\n",
    "\n",
    "I = Chord(key, ChordQuality.Maj)\n",
    "ii = Chord(key + Interval.from_str(\"2\"), ChordQuality.Min)\n",
    "IV = Chord(key + Interval.from_str(\"4\"), ChordQuality.Maj)\n",
    "V = Chord(key + Interval.from_str(\"5\"), ChordQuality.Maj)\n",
    "\n",
    "roll = PianoRoll(\n",
    "    beats_per_minute=110,\n",
    "    time_signature=(4, 4),\n",
    ")\n",
    "\n",
    "chord_progression = ChordProgression(\n",
    "    start_time=roll.Time(0, 0),\n",
    "    end_time=roll.Time(4, 2),\n",
    ")\n",
    "chord_progression.add_chords(\n",
    "    (I, roll.Time(0, 0)),\n",
    "    (IV, roll.Time(1, 0)),\n",
    "    (ii, roll.Time(2, 0)),\n",
    "    (V, roll.Time(3, 0)),\n",
    "    (I, roll.Time(4, 0)),\n",
    "    (IV.get_V7(), roll.Time(0, 2)),\n",
    "    (ii.get_V7(), roll.Time(1, 2)),\n",
    "    (V.get_V7(), roll.Time(2, 2)),\n",
    "    (I.get_V7(), roll.Time(3, 2)),\n",
    ")\n",
    "chord_voicings = BlockChordVoicer.generate(chord_progression)\n",
    "\n",
    "for i, chord_at_time in enumerate(chord_progression.chords):\n",
    "    roll.add_stride_pattern(\n",
    "        chord_at_time.chord,\n",
    "        chord_voicings[i],\n",
    "        chord_at_time.start_time,\n",
    "        chord_at_time.end_time,\n",
    "    )\n",
    "\n",
    "roll.add_notes(\n",
    "    Note(I.root, roll.Time(4, 2), roll.Duration(1)).reoctave_near_pitch(\n",
    "        Pitch.from_str(\"C3\")\n",
    "    )\n",
    ")"
   ]
  },
  {
   "cell_type": "code",
   "execution_count": null,
   "metadata": {},
   "outputs": [],
   "source": [
    "os.makedirs(\"playground/output\", exist_ok=True)\n",
    "with open(\"playground/output/output.mid\", \"wb\") as fout:\n",
    "    roll.to_midi().writeFile(fout)  # type: ignore"
   ]
  },
  {
   "cell_type": "code",
   "execution_count": null,
   "metadata": {},
   "outputs": [],
   "source": [
    "os.system(\"open -a VLC playground/output/output.mid\")"
   ]
  }
 ],
 "metadata": {
  "kernelspec": {
   "display_name": "piranha-plants-as-charade-PWJxIcuN-py3.11",
   "language": "python",
   "name": "python3"
  },
  "language_info": {
   "codemirror_mode": {
    "name": "ipython",
    "version": 3
   },
   "file_extension": ".py",
   "mimetype": "text/x-python",
   "name": "python",
   "nbconvert_exporter": "python",
   "pygments_lexer": "ipython3",
   "version": "3.11.11"
  }
 },
 "nbformat": 4,
 "nbformat_minor": 2
}
