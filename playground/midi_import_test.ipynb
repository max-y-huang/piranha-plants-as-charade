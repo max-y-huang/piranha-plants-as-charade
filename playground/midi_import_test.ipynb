{
 "cells": [
  {
   "cell_type": "code",
   "execution_count": null,
   "metadata": {},
   "outputs": [],
   "source": [
    "import os\n",
    "\n",
    "try:\n",
    "    if CONFIGURED_DIRS:  # type: ignore\n",
    "        pass\n",
    "except:\n",
    "    PLAYGROUND_DIR = os.getcwd()\n",
    "    os.chdir(\"../src\")\n",
    "\n",
    "CONFIGURED_DIRS = True\n",
    "\n",
    "print(f\"Playground directory: {PLAYGROUND_DIR}\")  # type: ignore\n",
    "print(f\"Working directory: {os.getcwd()}\")"
   ]
  },
  {
   "cell_type": "code",
   "execution_count": null,
   "metadata": {},
   "outputs": [],
   "source": [
    "from melody_extraction.midi import extract_arrangement_metadata_from_melody"
   ]
  },
  {
   "cell_type": "code",
   "execution_count": null,
   "metadata": {},
   "outputs": [],
   "source": [
    "extract_arrangement_metadata_from_melody(\"../playground/data/siiva.mid\")"
   ]
  }
 ],
 "metadata": {
  "kernelspec": {
   "display_name": "piranha-plants-as-charade-PWJxIcuN-py3.11",
   "language": "python",
   "name": "python3"
  },
  "language_info": {
   "codemirror_mode": {
    "name": "ipython",
    "version": 3
   },
   "file_extension": ".py",
   "mimetype": "text/x-python",
   "name": "python",
   "nbconvert_exporter": "python",
   "pygments_lexer": "ipython3",
   "version": "3.11.11"
  }
 },
 "nbformat": 4,
 "nbformat_minor": 2
}
