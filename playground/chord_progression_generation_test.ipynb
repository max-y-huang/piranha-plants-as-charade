{
 "cells": [
  {
   "cell_type": "code",
   "execution_count": null,
   "metadata": {},
   "outputs": [],
   "source": [
    "import os\n",
    "\n",
    "try:\n",
    "    if CONFIGURED_DIRS:  # type: ignore\n",
    "        pass\n",
    "except:\n",
    "    PLAYGROUND_DIR = os.getcwd()\n",
    "    os.chdir(\"../src\")\n",
    "\n",
    "CONFIGURED_DIRS = True\n",
    "\n",
    "print(f\"Playground directory: {PLAYGROUND_DIR}\")  # type: ignore\n",
    "print(f\"Working directory: {os.getcwd()}\")"
   ]
  },
  {
   "cell_type": "code",
   "execution_count": null,
   "metadata": {},
   "outputs": [],
   "source": [
    "import sys\n",
    "import importlib\n",
    "from IPython.display import Audio\n",
    "\n",
    "from common.arrangement_generator import ArrangementGenerator, ArrangementExportConfig\n",
    "\n",
    "from generation.chord_progression_generator import ChordProgressionGenerator\n",
    "from generation.instruments.voice import Voice\n",
    "from generation.instruments.piano import Piano"
   ]
  },
  {
   "cell_type": "code",
   "execution_count": null,
   "metadata": {},
   "outputs": [],
   "source": [
    "sys.path.append(\"../\")  # allow modules one directory above to be accessible"
   ]
  },
  {
   "cell_type": "code",
   "execution_count": null,
   "metadata": {},
   "outputs": [],
   "source": [
    "def create_song(name: str) -> ArrangementGenerator:\n",
    "    song = importlib.import_module(f\"playground.songs.{name}\")\n",
    "    arrangement_generator: ArrangementGenerator = song.get_song()\n",
    "\n",
    "    generator = ChordProgressionGenerator(\n",
    "        arrangement_generator.metadata,\n",
    "        arrangement_generator.melody,\n",
    "    )\n",
    "    chord_progression = generator.generate()\n",
    "\n",
    "    arrangement_generator = ArrangementGenerator(\n",
    "        arrangement_generator.melody,\n",
    "        chord_progression,\n",
    "        arrangement_generator.metadata,\n",
    "    )\n",
    "\n",
    "    arrangement_generator.add_instrument(\"Voice\", Voice)\n",
    "    arrangement_generator.add_instrument(\"Stride Piano\", Piano)\n",
    "\n",
    "    return arrangement_generator\n",
    "\n",
    "\n",
    "def export_song(name: str, suffix: str) -> str:\n",
    "    output_path = os.path.join(PLAYGROUND_DIR, \"output\", f\"{name}{suffix}.wav\")\n",
    "    create_song(name).export(ArrangementExportConfig(output_path=output_path))\n",
    "    return output_path\n",
    "\n",
    "\n",
    "Audio(export_song(\"first\", \"_generated_chords\"))"
   ]
  }
 ],
 "metadata": {
  "kernelspec": {
   "display_name": "piranha-plants-as-charade-PWJxIcuN-py3.11",
   "language": "python",
   "name": "python3"
  },
  "language_info": {
   "codemirror_mode": {
    "name": "ipython",
    "version": 3
   },
   "file_extension": ".py",
   "mimetype": "text/x-python",
   "name": "python",
   "nbconvert_exporter": "python",
   "pygments_lexer": "ipython3",
   "version": "3.11.11"
  }
 },
 "nbformat": 4,
 "nbformat_minor": 2
}
